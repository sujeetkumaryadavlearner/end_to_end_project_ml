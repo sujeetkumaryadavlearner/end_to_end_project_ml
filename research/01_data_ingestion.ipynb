{
 "cells": [
  {
   "cell_type": "code",
   "execution_count": 12,
   "id": "5442be9e",
   "metadata": {},
   "outputs": [],
   "source": [
    "import numpy as np\n",
    "import matplotlib.pyplot as plt\n",
    "import pandas as pd\n",
    "import seaborn as sns\n",
    "import os\n",
    "import requests"
   ]
  },
  {
   "cell_type": "code",
   "execution_count": 40,
   "id": "3585d55b",
   "metadata": {},
   "outputs": [],
   "source": [
    "os.chdir(r'C:\\Users\\S Kumar\\project\\end_to_end_project_ml\\research')"
   ]
  },
  {
   "cell_type": "code",
   "execution_count": null,
   "id": "aebdcc4c",
   "metadata": {},
   "outputs": [],
   "source": [
    "from pathlib import Path\n",
    "from dataclasses import dataclass\n",
    "\n",
    "\n",
    "@dataclass(frozen=True)\n",
    "class DataIngestionConfig:\n",
    "    root_dir: Path\n",
    "    source_url: str\n",
    "    ingested_data_dir: Path\n",
    "    \n",
    "  "
   ]
  },
  {
   "cell_type": "code",
   "execution_count": 41,
   "id": "9bb6f0f0",
   "metadata": {},
   "outputs": [
    {
     "data": {
      "text/plain": [
       "'C:\\\\Users\\\\S Kumar\\\\project\\\\end_to_end_project_ml\\\\research'"
      ]
     },
     "execution_count": 41,
     "metadata": {},
     "output_type": "execute_result"
    }
   ],
   "source": [
    "%pwd"
   ]
  },
  {
   "cell_type": "code",
   "execution_count": 18,
   "id": "6673cfc6",
   "metadata": {},
   "outputs": [],
   "source": [
    "from mlProject.constants import *\n",
    "from mlProject.utils.common import read_yaml , create_directories\n"
   ]
  },
  {
   "cell_type": "code",
   "execution_count": 43,
   "id": "1f55949b",
   "metadata": {},
   "outputs": [],
   "source": [
    "os.chdir('../')"
   ]
  },
  {
   "cell_type": "code",
   "execution_count": 1,
   "id": "d3fc17ac",
   "metadata": {},
   "outputs": [],
   "source": [
    "from mlProject.constants import *\n",
    "from mlProject.utils.common import read_yaml , create_directories\n",
    "from mlProject.entity.config_entity import DataIngestionConfig,DataValidationConfig\n",
    "\n",
    "class ConfigurationManager:\n",
    "    def __init__(self, config_file_path= CONFIG_FILE_PATH ,params_filepath=PARAMS_FILE_PATH,schema_filepath=SCHEMA_FILE_PATH):\n",
    "        self.config = read_yaml(config_file_path)\n",
    "        self.params = read_yaml(params_filepath)\n",
    "        self.schema = read_yaml(schema_filepath)\n",
    "        create_directories([self.config.artifacts_root])\n",
    "    \n",
    "\n",
    "    def get_data_validation_config(self)->DataValidationConfig:\n",
    "        config=self.config.data_validation\n",
    "        create_directories([config.root_dir])\n",
    "\n",
    "        data_validation_config = DataValidationConfig(\n",
    "            root_dir=config.root_dir,\n",
    "            status_file=config.status_file,\n",
    "            data_dir=config.data_dir\n",
    "        )\n",
    "        return data_validation_config"
   ]
  },
  {
   "cell_type": "code",
   "execution_count": null,
   "id": "e35c22b9",
   "metadata": {},
   "outputs": [],
   "source": []
  },
  {
   "cell_type": "code",
   "execution_count": 15,
   "id": "d0c1e6a6",
   "metadata": {},
   "outputs": [],
   "source": [
    "import os\n",
    "import urllib.request as request\n",
    "from mlProject import logger\n",
    "from mlProject.utils.common import get_size"
   ]
  },
  {
   "cell_type": "code",
   "execution_count": 20,
   "id": "2e16f722",
   "metadata": {},
   "outputs": [],
   "source": [
    "class DataIngestion:\n",
    "    def __init__(self, config: DataIngestionConfig):\n",
    "        self.config = config\n",
    "\n",
    "    def download_file(self):\n",
    "    # Raw CSV URL\n",
    "        csv_url = 'https://raw.githubusercontent.com/sujeetkumaryadavlearner/Diamond_price_Pred/main/data/raw/diamonds%20.csv'\n",
    "\n",
    "        # Define folder and file paths\n",
    "        folder_path = os.path.join('artifact', 'data_ingestion')\n",
    "        file_path = os.path.join(folder_path, 'diamond.csv')\n",
    "\n",
    "        # Create folders if they don't exist\n",
    "        os.makedirs(folder_path, exist_ok=True)\n",
    "\n",
    "        # Download the CSV file\n",
    "        response = requests.get(csv_url)\n",
    "        response.raise_for_status()  # Check for request errors\n",
    "\n",
    "        # Save the file\n",
    "        with open(file_path, 'wb') as file:\n",
    "            file.write(response.content)\n",
    "\n",
    "        logger.info(f'CSV file successfully saved at: {file_path}')\n",
    "\n"
   ]
  },
  {
   "cell_type": "code",
   "execution_count": 4,
   "id": "3cc24355",
   "metadata": {},
   "outputs": [],
   "source": [
    "class DataValidation:\n",
    "    def __init__(self, config: DataValidationConfig):\n",
    "        self.config = config\n",
    "\n",
    "    def validate_data(self):\n",
    "        # Load the data\n",
    "        try:\n",
    "            validation_status=None\n",
    "            data = pd.read_csv(self.config.data_dir)\n",
    "            validation_status=True\n",
    "            with open(self.config.status_file, 'w') as file:\n",
    "                file.write(f\"Data validation status: {validation_status}\\n\")\n",
    "            logger.info(f'Data loaded successfully from {self.config.data_dir}')\n",
    "        except Exception as e:\n",
    "            logger.error(f'Error loading data: {e}')\n",
    "    \n",
    "        return validation_status\n",
    "        \n"
   ]
  },
  {
   "cell_type": "code",
   "execution_count": 24,
   "id": "d4925e45",
   "metadata": {},
   "outputs": [
    {
     "name": "stdout",
     "output_type": "stream",
     "text": [
      "[2025-04-24 17:06:58,143]: INFO:common:yaml file: config\\config.yaml loaded successfully]\n",
      "[2025-04-24 17:06:58,146]: INFO:common:yaml file: params.yaml loaded successfully]\n",
      "[2025-04-24 17:06:58,148]: INFO:common:yaml file: schema.yaml loaded successfully]\n",
      "[2025-04-24 17:06:58,154]: INFO:common:created directory at: artifact]\n",
      "[2025-04-24 17:06:58,155]: INFO:common:created directory at: artifact/data_validation]\n",
      "[2025-04-24 17:06:58,221]: INFO:1031128231:Data loaded successfully from artifact/data_ingestion/diamond.csv]\n"
     ]
    },
    {
     "data": {
      "text/plain": [
       "True"
      ]
     },
     "execution_count": 24,
     "metadata": {},
     "output_type": "execute_result"
    }
   ],
   "source": [
    "config=ConfigurationManager()\n",
    "data_validation_config=config.get_data_validation_config()\n",
    "data_validation=DataValidation(config=data_validation_config)\n",
    "data_validation.validate_data()\n"
   ]
  },
  {
   "cell_type": "code",
   "execution_count": 6,
   "id": "3da52fbf",
   "metadata": {},
   "outputs": [
    {
     "data": {
      "text/plain": [
       "'c:\\\\Users\\\\S Kumar\\\\project\\\\end_to_end_project_ml\\\\research'"
      ]
     },
     "execution_count": 6,
     "metadata": {},
     "output_type": "execute_result"
    }
   ],
   "source": [
    "%pwd"
   ]
  },
  {
   "cell_type": "code",
   "execution_count": 10,
   "id": "2aea28db",
   "metadata": {},
   "outputs": [],
   "source": [
    "os.chdir('../')"
   ]
  },
  {
   "cell_type": "code",
   "execution_count": 9,
   "id": "062a30bc",
   "metadata": {},
   "outputs": [],
   "source": [
    "import os"
   ]
  },
  {
   "cell_type": "code",
   "execution_count": null,
   "id": "ff56a588",
   "metadata": {},
   "outputs": [],
   "source": []
  }
 ],
 "metadata": {
  "kernelspec": {
   "display_name": "mproj",
   "language": "python",
   "name": "python3"
  },
  "language_info": {
   "codemirror_mode": {
    "name": "ipython",
    "version": 3
   },
   "file_extension": ".py",
   "mimetype": "text/x-python",
   "name": "python",
   "nbconvert_exporter": "python",
   "pygments_lexer": "ipython3",
   "version": "3.12.7"
  }
 },
 "nbformat": 4,
 "nbformat_minor": 5
}
