{
 "cells": [
  {
   "cell_type": "code",
   "execution_count": 4,
   "id": "ee5939e4",
   "metadata": {},
   "outputs": [],
   "source": [
    "import pandas as pd\n",
    "import numpy as np\n",
    "import os\n",
    "from sklearn.tree import DecisionTreeRegressor\n",
    "from mlProject.constants import *\n",
    "from mlProject.utils.common import read_yaml, create_directories\n",
    "from config import *\n",
    "from mlProject.constants import *\n",
    "from dataclasses import dataclass\n",
    "from mlProject.constants import *\n",
    "from pathlib import Path\n",
    "import joblib"
   ]
  },
  {
   "cell_type": "code",
   "execution_count": 2,
   "id": "8341d6a9",
   "metadata": {},
   "outputs": [
    {
     "data": {
      "text/plain": [
       "'c:\\\\Users\\\\S Kumar\\\\project\\\\end_to_end_project_ml\\\\research'"
      ]
     },
     "execution_count": 2,
     "metadata": {},
     "output_type": "execute_result"
    }
   ],
   "source": [
    "%pwd"
   ]
  },
  {
   "cell_type": "code",
   "execution_count": 3,
   "id": "16f3c61e",
   "metadata": {},
   "outputs": [],
   "source": [
    "os.chdir('../')"
   ]
  },
  {
   "cell_type": "code",
   "execution_count": null,
   "id": "e27b1110",
   "metadata": {},
   "outputs": [],
   "source": []
  },
  {
   "cell_type": "code",
   "execution_count": null,
   "id": "548504bb",
   "metadata": {},
   "outputs": [
    {
     "data": {
      "text/plain": [
       "'C:\\\\Users\\\\S Kumar\\\\project\\\\end_to_end_project_ml'"
      ]
     },
     "execution_count": 14,
     "metadata": {},
     "output_type": "execute_result"
    }
   ],
   "source": []
  },
  {
   "cell_type": "code",
   "execution_count": null,
   "id": "ef020680",
   "metadata": {},
   "outputs": [],
   "source": [
    "\n",
    "        "
   ]
  },
  {
   "cell_type": "code",
   "execution_count": 5,
   "id": "2f80fc99",
   "metadata": {},
   "outputs": [],
   "source": [
    "@dataclass(frozen=True)\n",
    "class ModelTrainingConfig:\n",
    "    root_dir: Path\n",
    "    X_data_train_dir:Path\n",
    "    Y_data_train_dir:Path\n",
    "    X_data_test_dir:Path\n",
    "    Y_data_test_dir:Path \n",
    "    model_name: str\n",
    "    max_depth: int\n",
    "    min_samples_leaf: int\n",
    "    \n",
    "\n",
    "    "
   ]
  },
  {
   "cell_type": "code",
   "execution_count": 6,
   "id": "c459c7c4",
   "metadata": {},
   "outputs": [],
   "source": [
    "class ConfiguarationManager:\n",
    "    def __init__(self, config_file_path=CONFIG_FILE_PATH,param_file_path=PARAMS_FILE_PATH,schema_file_path=SCHEMA_FILE_PATH):\n",
    "        self.config_file = read_yaml(config_file_path)\n",
    "        self.param_file = read_yaml(param_file_path)\n",
    "        self.schema_file= read_yaml(schema_file_path)\n",
    "\n",
    "        create_directories([self.config_file.artifacts_root])\n",
    "    def get_model_config(self)->ModelTrainingConfig:\n",
    "        config=self.config_file.model_training \n",
    "        param=self.param_file.DecisionTreeRegressor\n",
    "        model_config = ModelTrainingConfig(\n",
    "            root_dir=config.root_dir,\n",
    "            X_data_train_dir=config.X_data_train_dir,\n",
    "            Y_data_train_dir=config.Y_data_train_dir,\n",
    "            X_data_test_dir=config.X_data_test_dir,\n",
    "            Y_data_test_dir=config.Y_data_test_dir,\n",
    "            model_name=config.model_name,\n",
    "            max_depth=param.max_depth,\n",
    "            min_samples_leaf=param.min_samples_leaf\n",
    "        )\n",
    "        return model_config"
   ]
  },
  {
   "cell_type": "code",
   "execution_count": 8,
   "id": "29b18437",
   "metadata": {},
   "outputs": [],
   "source": [
    "class ModelTraning:\n",
    "    def __init__(self, config: ModelTrainingConfig):\n",
    "        create_directories([config.root_dir])\n",
    "        self.config = config\n",
    "        self.model = DecisionTreeRegressor(max_depth=self.config.max_depth, min_samples_leaf=self.config.min_samples_leaf)\n",
    "        self.X_train = pd.read_csv(self.config.X_data_train_dir)\n",
    "        self.Y_train = pd.read_csv(self.config.Y_data_train_dir)\n",
    "        self.X_test = pd.read_csv(self.config.X_data_test_dir)\n",
    "        self.Y_test = pd.read_csv(self.config.Y_data_test_dir)\n",
    "\n",
    "    def train_model(self):\n",
    "        self.model.fit(self.X_train, self.Y_train)\n",
    "        joblib.dump(self.model, os.path.join(self.config.root_dir, self.config.model_name))"
   ]
  },
  {
   "cell_type": "code",
   "execution_count": 9,
   "id": "f31bd8b6",
   "metadata": {},
   "outputs": [
    {
     "name": "stdout",
     "output_type": "stream",
     "text": [
      "[2025-04-25 15:11:45,617]: INFO:common:yaml file: config\\config.yaml loaded successfully]\n",
      "[2025-04-25 15:11:45,619]: INFO:common:yaml file: params.yaml loaded successfully]\n",
      "[2025-04-25 15:11:45,622]: INFO:common:yaml file: schema.yaml loaded successfully]\n",
      "[2025-04-25 15:11:45,624]: INFO:common:created directory at: artifact]\n",
      "[2025-04-25 15:11:45,625]: INFO:common:created directory at: artifact/model_training]\n"
     ]
    }
   ],
   "source": [
    "config = ConfiguarationManager()\n",
    "model_trainer_config = config.get_model_config()\n",
    "model_trainer_config = ModelTraning(config=model_trainer_config)\n",
    "model_trainer_config.train_model()"
   ]
  },
  {
   "cell_type": "code",
   "execution_count": 10,
   "id": "513aef56",
   "metadata": {},
   "outputs": [],
   "source": [
    "import joblib"
   ]
  },
  {
   "cell_type": "code",
   "execution_count": 11,
   "id": "8b4863c6",
   "metadata": {},
   "outputs": [],
   "source": [
    "model=joblib.load(os.path.join(model_trainer_config.config.root_dir, model_trainer_config.config.model_name))"
   ]
  },
  {
   "cell_type": "code",
   "execution_count": 12,
   "id": "7347a0d8",
   "metadata": {},
   "outputs": [],
   "source": [
    "y_pred=model.predict(model_trainer_config.X_test)"
   ]
  },
  {
   "cell_type": "code",
   "execution_count": 13,
   "id": "be111764",
   "metadata": {},
   "outputs": [],
   "source": [
    "from sklearn.metrics import mean_squared_error, mean_absolute_error, r2_score"
   ]
  },
  {
   "cell_type": "code",
   "execution_count": 14,
   "id": "23fed229",
   "metadata": {},
   "outputs": [
    {
     "name": "stdout",
     "output_type": "stream",
     "text": [
      "Mean Squared Error: 1.5537756173975965\n"
     ]
    }
   ],
   "source": [
    "print(\"Mean Squared Error:\", mean_squared_error(model_trainer_config.Y_test, y_pred))"
   ]
  },
  {
   "cell_type": "code",
   "execution_count": 15,
   "id": "8ab0c81e",
   "metadata": {},
   "outputs": [
    {
     "data": {
      "text/plain": [
       "0.3982649962441974"
      ]
     },
     "execution_count": 15,
     "metadata": {},
     "output_type": "execute_result"
    }
   ],
   "source": [
    "r2_score(model_trainer_config.Y_test, y_pred)"
   ]
  },
  {
   "cell_type": "code",
   "execution_count": 18,
   "id": "aa64248a",
   "metadata": {},
   "outputs": [],
   "source": [
    "x_test = pd.read_csv(model_trainer_config.config.X_data_test_dir)\n",
    "y_test = pd.read_csv(model_trainer_config.config.Y_data_test_dir)\n",
    "x_train = pd.read_csv(model_trainer_config.config.X_data_train_dir)\n",
    "y_train = pd.read_csv(model_trainer_config.config.Y_data_train_dir)"
   ]
  },
  {
   "cell_type": "code",
   "execution_count": 19,
   "id": "fc9b2514",
   "metadata": {},
   "outputs": [],
   "source": [
    "from sklearn.preprocessing import StandardScaler"
   ]
  },
  {
   "cell_type": "code",
   "execution_count": 20,
   "id": "bff8189d",
   "metadata": {},
   "outputs": [],
   "source": [
    "scaler=StandardScaler()"
   ]
  },
  {
   "cell_type": "code",
   "execution_count": 21,
   "id": "d8b820df",
   "metadata": {},
   "outputs": [],
   "source": [
    "x_train_scaled=scaler.fit_transform(x_train)\n",
    "x_test_scaled=scaler.transform(x_test)  "
   ]
  },
  {
   "cell_type": "code",
   "execution_count": 22,
   "id": "9fdaad04",
   "metadata": {},
   "outputs": [],
   "source": [
    "from sklearn.tree import DecisionTreeRegressor\n",
    "model = DecisionTreeRegressor(max_depth=model_trainer_config.config.max_depth, min_samples_leaf=model_trainer_config.config.min_samples_leaf)"
   ]
  },
  {
   "cell_type": "code",
   "execution_count": 23,
   "id": "5ff9fecf",
   "metadata": {},
   "outputs": [],
   "source": [
    "model.fit(x_train_scaled, y_train)\n",
    "y_pred = model.predict(x_test_scaled)   "
   ]
  },
  {
   "cell_type": "code",
   "execution_count": 24,
   "id": "5746f6ac",
   "metadata": {},
   "outputs": [
    {
     "data": {
      "text/plain": [
       "0.3982649962441974"
      ]
     },
     "execution_count": 24,
     "metadata": {},
     "output_type": "execute_result"
    }
   ],
   "source": [
    "r2_score(model_trainer_config.Y_test, y_pred)"
   ]
  },
  {
   "cell_type": "code",
   "execution_count": null,
   "id": "7a1f2118",
   "metadata": {},
   "outputs": [],
   "source": []
  }
 ],
 "metadata": {
  "kernelspec": {
   "display_name": "mproj",
   "language": "python",
   "name": "python3"
  },
  "language_info": {
   "codemirror_mode": {
    "name": "ipython",
    "version": 3
   },
   "file_extension": ".py",
   "mimetype": "text/x-python",
   "name": "python",
   "nbconvert_exporter": "python",
   "pygments_lexer": "ipython3",
   "version": "3.12.7"
  }
 },
 "nbformat": 4,
 "nbformat_minor": 5
}
