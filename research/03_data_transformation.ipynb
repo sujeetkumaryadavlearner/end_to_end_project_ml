{
 "cells": [
  {
   "cell_type": "code",
   "execution_count": null,
   "id": "482077d4",
   "metadata": {},
   "outputs": [],
   "source": []
  },
  {
   "cell_type": "code",
   "execution_count": 15,
   "id": "be0fedd1",
   "metadata": {},
   "outputs": [],
   "source": [
    "from pathlib import Path\n",
    "from dataclasses import dataclass\n",
    "\n",
    "\n",
    "@dataclass(frozen=True)\n",
    "class DataTransformConfig:\n",
    "    root_dir: Path\n",
    "    data_dir: Path\n",
    "    \n",
    "  "
   ]
  },
  {
   "cell_type": "code",
   "execution_count": 70,
   "id": "538aaf42",
   "metadata": {},
   "outputs": [],
   "source": [
    "import pandas as pd\n",
    "import numpy as np\n",
    "from sklearn.model_selection import train_test_split\n",
    "from mlProject.constants import *\n",
    "from mlProject.utils.common import read_yaml , create_directories\n",
    "from sklearn.preprocessing import LabelEncoder,OrdinalEncoder\n"
   ]
  },
  {
   "cell_type": "code",
   "execution_count": 5,
   "id": "630f9fba",
   "metadata": {},
   "outputs": [
    {
     "data": {
      "text/plain": [
       "'c:\\\\Users\\\\S Kumar\\\\project\\\\end_to_end_project_ml\\\\research'"
      ]
     },
     "execution_count": 5,
     "metadata": {},
     "output_type": "execute_result"
    }
   ],
   "source": [
    "%pwd"
   ]
  },
  {
   "cell_type": "code",
   "execution_count": 6,
   "id": "17657274",
   "metadata": {},
   "outputs": [],
   "source": [
    "import os"
   ]
  },
  {
   "cell_type": "code",
   "execution_count": 7,
   "id": "8384cc3c",
   "metadata": {},
   "outputs": [],
   "source": [
    "os.chdir('../')"
   ]
  },
  {
   "cell_type": "code",
   "execution_count": 1,
   "id": "ff357ed3",
   "metadata": {},
   "outputs": [
    {
     "data": {
      "text/plain": [
       "'c:\\\\Users\\\\S Kumar\\\\project\\\\end_to_end_project_ml\\\\research'"
      ]
     },
     "execution_count": 1,
     "metadata": {},
     "output_type": "execute_result"
    }
   ],
   "source": [
    "%pwd"
   ]
  },
  {
   "cell_type": "code",
   "execution_count": 50,
   "id": "1b54d244",
   "metadata": {},
   "outputs": [],
   "source": [
    "import numpy as np\n",
    "import matplotlib.pyplot as plt\n",
    "import pandas as pd\n",
    "import seaborn as sns\n",
    "import os\n",
    "import requests\n",
    "from pathlib import Path\n",
    "from dataclasses import dataclass\n",
    "\n",
    "\n",
    "\n",
    "class ConfigurationManager:\n",
    "    def __init__(self, config_file_path= CONFIG_FILE_PATH ,params_filepath=PARAMS_FILE_PATH,schema_filepath=SCHEMA_FILE_PATH):\n",
    "        self.config = read_yaml(config_file_path)\n",
    "        self.params = read_yaml(params_filepath)\n",
    "        self.schema = read_yaml(schema_filepath)\n",
    "        create_directories([self.config.artifacts_root])\n",
    "    \n",
    "\n",
    "    def get_data_transformation_config(self)->DataTransformConfig:\n",
    "        config=self.config.data_transformation\n",
    "        create_directories([config.root_dir])\n",
    "\n",
    "        data_transformation_config = DataTransformConfig(\n",
    "            root_dir=config.root_dir,\n",
    "            data_dir=config.data_dir\n",
    "        )\n",
    "        return data_transformation_config\n",
    "\n"
   ]
  },
  {
   "cell_type": "code",
   "execution_count": null,
   "id": "b58b5f2c",
   "metadata": {},
   "outputs": [],
   "source": [
    "class DataTranformation:\n",
    "    def __init__(self, config: DataTransformConfig):\n",
    "        self.config = config\n",
    "        create_directories([self.config.root_dir])\n",
    "    def lable_data(self)->pd.DataFrame:\n",
    "        data = pd.read_csv(self.config.data_dir)\n",
    "        categoried_1=[['Fair', 'Good', 'Very Good', 'Premium', 'Ideal']]\n",
    "        clarity_mapping = {'I1':0,'SI2': 1, 'SI1': 2, 'VS2': 3, 'VS1': 4, 'VVS2': 5, 'VVS1': 6, 'IF': 7}\n",
    "        color_mapping = {'J': 0, 'I': 1, 'H': 2, 'G': 3, 'F': 4, 'E': 5, 'D': 6}\n",
    "\n",
    "        encoder1=OrdinalEncoder(categories=categoried_1)\n",
    "        encoder2=OrdinalEncoder(categories=clarity_mapping)\n",
    "        encoder3=OrdinalEncoder(categories=color_mapping)\n",
    "\n",
    "        data[\"cut\"]=encoder1.fit_transform(data[[\"cut\"]])\n",
    "        data[\"clarity\"]=data[\"clarity\"].map(clarity_mapping)\n",
    "        data[\"color\"]=data[\"color\"].map(color_mapping)\n",
    "        return data\n",
    "    \n",
    "    def transform(self,df):\n",
    "        df.drop(columns=[\"Unnamed: 0\"], inplace=True)\n",
    "        df.dropna(inplace=True)\n",
    "        df.reset_index(drop=True, inplace=True)\n",
    "        Y= df[[\"price\"]]\n",
    "        X =df.drop(columns=[\"price\"])\n",
    "        X_train,X_test,Y_train,Y_test = train_test_split(X, Y, test_size=0.2, random_state=42)\n",
    "        X_train.to_csv(os.path.join(self.config.root_dir ,\"X_train.csv\"), index=False)\n",
    "        X_test.to_csv(os.path.join(self.config.root_dir , \"X_test.csv\"), index=False) \n",
    "        Y_train.to_csv(os.path.join(self.config.root_dir , \"Y_train.csv\"), index=False)\n",
    "        Y_test.to_csv(os.path.join(self.config.root_dir , \"Y_test.csv\"), index=False)\n",
    "        \n"
   ]
  },
  {
   "cell_type": "code",
   "execution_count": 72,
   "id": "2c9f9adc",
   "metadata": {},
   "outputs": [
    {
     "name": "stdout",
     "output_type": "stream",
     "text": [
      "[2025-04-25 01:16:56,610]: INFO:common:yaml file: config\\config.yaml loaded successfully]\n",
      "[2025-04-25 01:16:56,613]: INFO:common:yaml file: params.yaml loaded successfully]\n",
      "[2025-04-25 01:16:56,617]: INFO:common:yaml file: schema.yaml loaded successfully]\n",
      "[2025-04-25 01:16:56,621]: INFO:common:created directory at: artifact]\n",
      "[2025-04-25 01:16:56,623]: INFO:common:created directory at: artifact/data_transformation]\n",
      "[2025-04-25 01:16:56,624]: INFO:common:created directory at: artifact/data_transformation]\n"
     ]
    }
   ],
   "source": [
    "config = ConfigurationManager()\n",
    "data_transformation_config = config.get_data_transformation_config()\n",
    "data_transformation = DataTranformation(config=data_transformation_config)\n",
    "data=data_transformation.lable_data()\n",
    "data_transformation.transform(data)\n"
   ]
  },
  {
   "cell_type": "code",
   "execution_count": null,
   "id": "6ce7870d",
   "metadata": {},
   "outputs": [],
   "source": [
    "data="
   ]
  },
  {
   "cell_type": "code",
   "execution_count": null,
   "id": "ee3e3643",
   "metadata": {},
   "outputs": [],
   "source": []
  },
  {
   "cell_type": "code",
   "execution_count": null,
   "id": "9ccfa6ab",
   "metadata": {},
   "outputs": [],
   "source": []
  },
  {
   "cell_type": "code",
   "execution_count": null,
   "id": "fd9b62a2",
   "metadata": {},
   "outputs": [],
   "source": []
  },
  {
   "cell_type": "code",
   "execution_count": null,
   "id": "7f26fd5e",
   "metadata": {},
   "outputs": [],
   "source": []
  },
  {
   "cell_type": "markdown",
   "id": "7291541a",
   "metadata": {},
   "source": []
  }
 ],
 "metadata": {
  "kernelspec": {
   "display_name": "mproj",
   "language": "python",
   "name": "python3"
  },
  "language_info": {
   "codemirror_mode": {
    "name": "ipython",
    "version": 3
   },
   "file_extension": ".py",
   "mimetype": "text/x-python",
   "name": "python",
   "nbconvert_exporter": "python",
   "pygments_lexer": "ipython3",
   "version": "3.12.7"
  }
 },
 "nbformat": 4,
 "nbformat_minor": 5
}
