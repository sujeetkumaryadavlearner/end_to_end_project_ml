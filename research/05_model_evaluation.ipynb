{
 "cells": [
  {
   "cell_type": "code",
   "execution_count": 25,
   "id": "96d76350",
   "metadata": {},
   "outputs": [],
   "source": [
    "from dataclasses import dataclass\n",
    "from pathlib import Path\n",
    "import os\n",
    "import joblib\n",
    "import pandas as pd\n",
    "from sklearn.metrics import r2_score, mean_squared_error\n",
    "from mlProject import logger"
   ]
  },
  {
   "cell_type": "code",
   "execution_count": 19,
   "id": "a08cdcff",
   "metadata": {},
   "outputs": [],
   "source": [
    "@dataclass(frozen=True)\n",
    "class ModelEvaluationConfig:\n",
    "    root_dir: Path\n",
    "    X_data_train_dir: Path\n",
    "    Y_data_train_dir: Path\n",
    "    X_data_test_dir: Path\n",
    "    Y_data_test_dir:Path\n",
    "    report_dir: Path\n",
    "    model_dir: Path\n",
    "    "
   ]
  },
  {
   "cell_type": "code",
   "execution_count": null,
   "id": "92d14344",
   "metadata": {},
   "outputs": [],
   "source": []
  },
  {
   "cell_type": "code",
   "execution_count": 20,
   "id": "62b1a153",
   "metadata": {},
   "outputs": [],
   "source": [
    "from mlProject.constants import *\n",
    "from mlProject.utils.common import read_yaml , create_directories\n",
    "##from mlProject.entity.config_entity import ModelEvaluationConfig \n",
    "class ConfigurationManager:\n",
    "    def __init__(self, config_file_path= CONFIG_FILE_PATH ,params_filepath=PARAMS_FILE_PATH,schema_filepath=SCHEMA_FILE_PATH):\n",
    "        self.config = read_yaml(config_file_path)\n",
    "        self.params = read_yaml(params_filepath)\n",
    "        self.schema = read_yaml(schema_filepath)\n",
    "        create_directories([self.config.artifacts_root])\n",
    "    \n",
    "\n",
    "    def get_evaluation_config(self)->ModelEvaluationConfig:\n",
    "        config=self.config.model_evaluation\n",
    "        create_directories([config.root_dir])\n",
    "\n",
    "        model_evaluation_config = ModelEvaluationConfig(\n",
    "        root_dir=config.root_dir,\n",
    "        X_data_train_dir=config.X_data_train_dir,  \n",
    "        Y_data_train_dir=config.Y_data_train_dir,\n",
    "        X_data_test_dir=config.X_data_test_dir,\n",
    "        Y_data_test_dir=config.Y_data_test_dir, \n",
    "        report_dir=config.report_dir,\n",
    "        model_dir=config.model_dir\n",
    "        )\n",
    "        return model_evaluation_config"
   ]
  },
  {
   "cell_type": "code",
   "execution_count": 34,
   "id": "1b6f91f7",
   "metadata": {},
   "outputs": [],
   "source": [
    "class ModelEvaluation:\n",
    "    def __init__(self, config: ModelEvaluationConfig):\n",
    "        self.config = config\n",
    "\n",
    "    def evaluate_model(self):\n",
    "       model=joblib.load(self.config.model_dir)\n",
    "       X_test = pd.read_csv(self.config.X_data_test_dir)\n",
    "       Y_test = pd.read_csv(self.config.Y_data_test_dir)\n",
    "       y_pred = model.predict(X_test)\n",
    "       r2_scoree=r2_score(Y_test, y_pred)\n",
    "       mse = mean_squared_error(Y_test, y_pred)\n",
    "\n",
    "       with open(self.config.report_dir, 'w') as report_file:\n",
    "           report_file.write(f\"R2 Score: {r2_scoree}\\n\")\n",
    "           report_file.write(f\"Mean Squared Error: {mse}\\n\")\n",
    "           logger.info(f\"Model evaluation report saved at {self.config.report_dir}\")      \n",
    "       \n"
   ]
  },
  {
   "cell_type": "code",
   "execution_count": 32,
   "id": "5eb91af0",
   "metadata": {},
   "outputs": [
    {
     "data": {
      "text/plain": [
       "'c:\\\\Users\\\\S Kumar\\\\project\\\\end_to_end_project_ml'"
      ]
     },
     "execution_count": 32,
     "metadata": {},
     "output_type": "execute_result"
    }
   ],
   "source": [
    "%pwd"
   ]
  },
  {
   "cell_type": "code",
   "execution_count": 31,
   "id": "67276b30",
   "metadata": {},
   "outputs": [],
   "source": [
    "os.chdir('../')"
   ]
  },
  {
   "cell_type": "code",
   "execution_count": 35,
   "id": "60fd81ac",
   "metadata": {},
   "outputs": [
    {
     "name": "stdout",
     "output_type": "stream",
     "text": [
      "[2025-04-25 15:08:08,165]: INFO:common:yaml file: config\\config.yaml loaded successfully]\n",
      "[2025-04-25 15:08:08,168]: INFO:common:yaml file: params.yaml loaded successfully]\n",
      "[2025-04-25 15:08:08,171]: INFO:common:yaml file: schema.yaml loaded successfully]\n",
      "[2025-04-25 15:08:08,173]: INFO:common:created directory at: artifact]\n",
      "[2025-04-25 15:08:08,174]: INFO:common:created directory at: artifact/model_evaluation]\n",
      "[2025-04-25 15:08:08,213]: INFO:421575419:Model evaluation report saved at artifact/model_evaluation/report.txt]\n"
     ]
    }
   ],
   "source": [
    "config=ConfigurationManager()\n",
    "model_evaluation_config=config.get_evaluation_config()  \n",
    "model_evaluation=ModelEvaluation(config=model_evaluation_config)\n",
    "model_evaluation.evaluate_model()   "
   ]
  },
  {
   "cell_type": "code",
   "execution_count": null,
   "id": "ea136ef1",
   "metadata": {},
   "outputs": [],
   "source": []
  }
 ],
 "metadata": {
  "kernelspec": {
   "display_name": "mproj",
   "language": "python",
   "name": "python3"
  },
  "language_info": {
   "codemirror_mode": {
    "name": "ipython",
    "version": 3
   },
   "file_extension": ".py",
   "mimetype": "text/x-python",
   "name": "python",
   "nbconvert_exporter": "python",
   "pygments_lexer": "ipython3",
   "version": "3.12.7"
  }
 },
 "nbformat": 4,
 "nbformat_minor": 5
}
